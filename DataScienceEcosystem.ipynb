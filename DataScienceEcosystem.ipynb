{
 "cells": [
  {
   "cell_type": "markdown",
   "id": "bb162814-ef21-4080-9a8f-25c78ceb9506",
   "metadata": {},
   "source": [
    "# Data Science Tools and Ecosystem"
   ]
  },
  {
   "cell_type": "markdown",
   "id": "8aa786a4-e294-4171-9b47-53b6d43853a0",
   "metadata": {},
   "source": [
    "### In this notebook, Data Science Tools and Ecosystem are summarized."
   ]
  },
  {
   "cell_type": "markdown",
   "id": "604012c5-4059-439c-ab26-4e315510f11a",
   "metadata": {},
   "source": [
    "**Objectives:**\n",
    "- Popular Languages of Data Science\n",
    "- Some Libraries used in Data Science\n",
    "- Data Science Tools\n",
    "- Arthimetic Expressions in Python\n",
    "- Example of arthimetic expressions in Python\n"
   ]
  },
  {
   "cell_type": "markdown",
   "id": "5655855e-ffe5-4ec3-a266-e06b5097d631",
   "metadata": {},
   "source": [
    "Some of the popular languages that Data Scientists use are:\n",
    "1. Python\n",
    "2. R\n",
    "3. Scala"
   ]
  },
  {
   "cell_type": "markdown",
   "id": "62479036-b61c-4b43-95f2-afd67cfb28c2",
   "metadata": {},
   "source": [
    "Some of the commonly used libraries used by Data Scientists include:\n",
    "1. Pandas\n",
    "2. Numpy\n",
    "3. Pytorch"
   ]
  },
  {
   "cell_type": "markdown",
   "id": "84f35229-0578-4aca-9151-d9cbb3fbcb9d",
   "metadata": {},
   "source": [
    "| Data Science Tools |\n",
    "|--------------------|\n",
    "| Jupytor |\n",
    "| VS Code |\n",
    "| R Studio |\n"
   ]
  },
  {
   "cell_type": "markdown",
   "id": "eb36ade3-4d91-4fd6-a9fd-858562919e71",
   "metadata": {},
   "source": [
    "### Below are a few examples of evaluating arithmetic expressions in Python\n",
    "- Addition (+)\n",
    "- Substraction (-)\n",
    "- Division (/)\n",
    "- Multiplication (*)"
   ]
  },
  {
   "cell_type": "markdown",
   "id": "15087650-f352-438c-b53b-6f833318438e",
   "metadata": {},
   "source": [
    "##### This a simple arithmetic expression to mutiply then add integers"
   ]
  },
  {
   "cell_type": "code",
   "execution_count": 1,
   "id": "0ec90b91-856b-42cf-9a46-bc2290e7d5c3",
   "metadata": {
    "tags": []
   },
   "outputs": [
    {
     "data": {
      "text/plain": [
       "17"
      ]
     },
     "execution_count": 1,
     "metadata": {},
     "output_type": "execute_result"
    }
   ],
   "source": [
    "(3*4)+5"
   ]
  },
  {
   "cell_type": "markdown",
   "id": "6ee9428c-8ef9-4f44-a8c2-3dd3004af1ff",
   "metadata": {},
   "source": [
    "##### This will convert 200 minutes to hours by diving by 60"
   ]
  },
  {
   "cell_type": "code",
   "execution_count": 2,
   "id": "00447f39-f593-4c6e-ad3f-5991ebcc77f4",
   "metadata": {
    "tags": []
   },
   "outputs": [
    {
     "data": {
      "text/plain": [
       "3.3333333333333335"
      ]
     },
     "execution_count": 2,
     "metadata": {},
     "output_type": "execute_result"
    }
   ],
   "source": [
    "200/60"
   ]
  },
  {
   "cell_type": "markdown",
   "id": "ba6de252-a677-465c-9650-caed382c092d",
   "metadata": {},
   "source": [
    "## Author \n",
    "Tushar Bhardwaj"
   ]
  },
  {
   "cell_type": "code",
   "execution_count": null,
   "id": "241b4a30-43c5-41ab-ac38-08cd77800787",
   "metadata": {},
   "outputs": [],
   "source": []
  }
 ],
 "metadata": {
  "kernelspec": {
   "display_name": "Python",
   "language": "python",
   "name": "conda-env-python-py"
  },
  "language_info": {
   "codemirror_mode": {
    "name": "ipython",
    "version": 3
   },
   "file_extension": ".py",
   "mimetype": "text/x-python",
   "name": "python",
   "nbconvert_exporter": "python",
   "pygments_lexer": "ipython3",
   "version": "3.7.12"
  }
 },
 "nbformat": 4,
 "nbformat_minor": 5
}
